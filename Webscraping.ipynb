{
 "cells": [
  {
   "cell_type": "code",
   "execution_count": 47,
   "id": "7e0195d0",
   "metadata": {},
   "outputs": [],
   "source": [
    "#import request library\n",
    "import requests\n",
    "import json\n",
    "import pandas as pd\n",
    "import time"
   ]
  },
  {
   "cell_type": "code",
   "execution_count": 39,
   "id": "3ba9e9db",
   "metadata": {},
   "outputs": [],
   "source": [
    "url = 'https://bikroy.com/data/serp?top_ads=2&spotlights=5&sort=date&order=desc&buy_now=0&urgent=0&categorySlug=mobiles&locationSlug=bangladesh&category=101&page=5&filter_json=[]'"
   ]
  },
  {
   "cell_type": "code",
   "execution_count": 40,
   "id": "d2f80920",
   "metadata": {},
   "outputs": [],
   "source": [
    "req = requests.get(url)"
   ]
  },
  {
   "cell_type": "code",
   "execution_count": 41,
   "id": "df916594",
   "metadata": {},
   "outputs": [
    {
     "data": {
      "text/plain": [
       "200"
      ]
     },
     "execution_count": 41,
     "metadata": {},
     "output_type": "execute_result"
    }
   ],
   "source": [
    "req.status_code"
   ]
  },
  {
   "cell_type": "code",
   "execution_count": 42,
   "id": "f498d96d",
   "metadata": {},
   "outputs": [],
   "source": [
    "response = req.json()"
   ]
  },
  {
   "cell_type": "code",
   "execution_count": 43,
   "id": "29a44b4b",
   "metadata": {},
   "outputs": [
    {
     "data": {
      "text/plain": [
       "dict_keys(['ads', 'topAds', 'spotlights', 'paginationData', 'filters', 'categories', 'locations', 'categoryId', 'locationId', 'uniqueShops', 'title', 'description', 'h1Text', 'contentSnippet', 'isCuratedQuery', 'canonical', 'filterCanonicalUrl', 'internalLinks'])"
      ]
     },
     "execution_count": 43,
     "metadata": {},
     "output_type": "execute_result"
    }
   ],
   "source": [
    "response.keys()"
   ]
  },
  {
   "cell_type": "code",
   "execution_count": 44,
   "id": "2984b9e8",
   "metadata": {},
   "outputs": [
    {
     "data": {
      "text/plain": [
       "dict_keys(['id', 'slug', 'title', 'description', 'details', 'imgUrl', 'price', 'discount', 'mrp', 'isMember', 'isAuthDealer', 'isFeaturedMember', 'membershipLevel', 'shopName', 'isDoorstepDelivery', 'isDeliveryFree', 'isTopAd', 'isUrgentAd', 'timeStamp', 'lastBumpUpDate', 'category', 'isVerified', 'isJobAd', 'location', 'adType', 'isLocalJob'])"
      ]
     },
     "execution_count": 44,
     "metadata": {},
     "output_type": "execute_result"
    }
   ],
   "source": [
    "response['ads'][0].keys()"
   ]
  },
  {
   "cell_type": "code",
   "execution_count": 45,
   "id": "09b507bc",
   "metadata": {},
   "outputs": [],
   "source": [
    "titel = response['ads'][0]['title']\n",
    "description = response['ads'][0]['description']\n",
    "price = response['ads'][0]['price']"
   ]
  },
  {
   "cell_type": "code",
   "execution_count": 51,
   "id": "663a79ca",
   "metadata": {
    "scrolled": true
   },
   "outputs": [
    {
     "name": "stdout",
     "output_type": "stream",
     "text": [
      "https://bikroy.com/data/serp?top_ads=2&spotlights=5&sort=date&order=desc&buy_now=0&urgent=0&categorySlug=mobiles&locationSlug=bangladesh&category=101&page=1&filter_json=[]\n",
      "page no. 1done\n",
      "https://bikroy.com/data/serp?top_ads=2&spotlights=5&sort=date&order=desc&buy_now=0&urgent=0&categorySlug=mobiles&locationSlug=bangladesh&category=101&page=2&filter_json=[]\n",
      "page no. 2done\n",
      "https://bikroy.com/data/serp?top_ads=2&spotlights=5&sort=date&order=desc&buy_now=0&urgent=0&categorySlug=mobiles&locationSlug=bangladesh&category=101&page=3&filter_json=[]\n",
      "page no. 3done\n",
      "https://bikroy.com/data/serp?top_ads=2&spotlights=5&sort=date&order=desc&buy_now=0&urgent=0&categorySlug=mobiles&locationSlug=bangladesh&category=101&page=4&filter_json=[]\n",
      "page no. 4done\n",
      "https://bikroy.com/data/serp?top_ads=2&spotlights=5&sort=date&order=desc&buy_now=0&urgent=0&categorySlug=mobiles&locationSlug=bangladesh&category=101&page=5&filter_json=[]\n",
      "page no. 5done\n"
     ]
    }
   ],
   "source": [
    "data = []\n",
    "for page in range(1,6):\n",
    "    url = f'https://bikroy.com/data/serp?top_ads=2&spotlights=5&sort=date&order=desc&buy_now=0&urgent=0&categorySlug=mobiles&locationSlug=bangladesh&category=101&page={page}&filter_json=[]'\n",
    "    print(url)\n",
    "    req = requests.get(url)\n",
    "    time.sleep(3)\n",
    "    response = req.json()\n",
    "    print('page no. ' + str(page) + \"done\")\n",
    "    for product in range(0,25):\n",
    "        try:\n",
    "            price = response['ads'][product]['price']\n",
    "        except:\n",
    "            price = 'Not Available'\n",
    "        data_json = {\n",
    "            'titel' : response['ads'][product]['title'],\n",
    "            'description' : response['ads'][product]['description'],\n",
    "            'price' : price\n",
    "        }\n",
    "        data.append(data_json)\n",
    "        \n",
    "        "
   ]
  },
  {
   "cell_type": "code",
   "execution_count": 55,
   "id": "d4cd73a5",
   "metadata": {
    "scrolled": false
   },
   "outputs": [
    {
     "data": {
      "text/html": [
       "<div>\n",
       "<style scoped>\n",
       "    .dataframe tbody tr th:only-of-type {\n",
       "        vertical-align: middle;\n",
       "    }\n",
       "\n",
       "    .dataframe tbody tr th {\n",
       "        vertical-align: top;\n",
       "    }\n",
       "\n",
       "    .dataframe thead th {\n",
       "        text-align: right;\n",
       "    }\n",
       "</style>\n",
       "<table border=\"1\" class=\"dataframe\">\n",
       "  <thead>\n",
       "    <tr style=\"text-align: right;\">\n",
       "      <th></th>\n",
       "      <th>titel</th>\n",
       "      <th>description</th>\n",
       "      <th>price</th>\n",
       "    </tr>\n",
       "  </thead>\n",
       "  <tbody>\n",
       "    <tr>\n",
       "      <th>0</th>\n",
       "      <td>Xiaomi Redmi Note 11 . (Used)</td>\n",
       "      <td>Rangpur Division, Mobile Phones</td>\n",
       "      <td>Tk 16,500</td>\n",
       "    </tr>\n",
       "    <tr>\n",
       "      <th>1</th>\n",
       "      <td>Vivo Y12 . (Used)</td>\n",
       "      <td>Khulna, Mobile Phones</td>\n",
       "      <td>Tk 7,500</td>\n",
       "    </tr>\n",
       "    <tr>\n",
       "      <th>2</th>\n",
       "      <td>Apple iPhone 6 . (Used)</td>\n",
       "      <td>Dhaka, Mobile Phones</td>\n",
       "      <td>Tk 7,000</td>\n",
       "    </tr>\n",
       "    <tr>\n",
       "      <th>3</th>\n",
       "      <td>WE A10 (Used)</td>\n",
       "      <td>Dhaka, Mobile Phones</td>\n",
       "      <td>Tk 1,499</td>\n",
       "    </tr>\n",
       "    <tr>\n",
       "      <th>4</th>\n",
       "      <td>Realme 10 Pro Plus 8/128 Storage 5G (Used)</td>\n",
       "      <td>Dhaka, Mobile Phones</td>\n",
       "      <td>Tk 27,000</td>\n",
       "    </tr>\n",
       "    <tr>\n",
       "      <th>...</th>\n",
       "      <td>...</td>\n",
       "      <td>...</td>\n",
       "      <td>...</td>\n",
       "    </tr>\n",
       "    <tr>\n",
       "      <th>120</th>\n",
       "      <td>Realme Narzo 50 Pro , (Used)</td>\n",
       "      <td>Khulna, Mobile Phones</td>\n",
       "      <td>Tk 17,000</td>\n",
       "    </tr>\n",
       "    <tr>\n",
       "      <th>121</th>\n",
       "      <td>Google Pixel 4a (Used)</td>\n",
       "      <td>Dhaka Division, Mobile Phones</td>\n",
       "      <td>Tk 100</td>\n",
       "    </tr>\n",
       "    <tr>\n",
       "      <th>122</th>\n",
       "      <td>Infinix Hot 12 Play (Used)</td>\n",
       "      <td>Khulna, Mobile Phones</td>\n",
       "      <td>Tk 8,000</td>\n",
       "    </tr>\n",
       "    <tr>\n",
       "      <th>123</th>\n",
       "      <td>Xiaomi Redmi Note 6 Pro . (Used)</td>\n",
       "      <td>Khulna Division, Mobile Phones</td>\n",
       "      <td>Tk 3,800</td>\n",
       "    </tr>\n",
       "    <tr>\n",
       "      <th>124</th>\n",
       "      <td>Symphony Xplorer W31 full fresh phone (Used)</td>\n",
       "      <td>Khulna, Mobile Phones</td>\n",
       "      <td>Tk 2,000</td>\n",
       "    </tr>\n",
       "  </tbody>\n",
       "</table>\n",
       "<p>125 rows × 3 columns</p>\n",
       "</div>"
      ],
      "text/plain": [
       "                                            titel  \\\n",
       "0                   Xiaomi Redmi Note 11 . (Used)   \n",
       "1                               Vivo Y12 . (Used)   \n",
       "2                         Apple iPhone 6 . (Used)   \n",
       "3                                   WE A10 (Used)   \n",
       "4      Realme 10 Pro Plus 8/128 Storage 5G (Used)   \n",
       "..                                            ...   \n",
       "120                  Realme Narzo 50 Pro , (Used)   \n",
       "121                        Google Pixel 4a (Used)   \n",
       "122                    Infinix Hot 12 Play (Used)   \n",
       "123              Xiaomi Redmi Note 6 Pro . (Used)   \n",
       "124  Symphony Xplorer W31 full fresh phone (Used)   \n",
       "\n",
       "                         description      price  \n",
       "0    Rangpur Division, Mobile Phones  Tk 16,500  \n",
       "1              Khulna, Mobile Phones   Tk 7,500  \n",
       "2               Dhaka, Mobile Phones   Tk 7,000  \n",
       "3               Dhaka, Mobile Phones   Tk 1,499  \n",
       "4               Dhaka, Mobile Phones  Tk 27,000  \n",
       "..                               ...        ...  \n",
       "120            Khulna, Mobile Phones  Tk 17,000  \n",
       "121    Dhaka Division, Mobile Phones     Tk 100  \n",
       "122            Khulna, Mobile Phones   Tk 8,000  \n",
       "123   Khulna Division, Mobile Phones   Tk 3,800  \n",
       "124            Khulna, Mobile Phones   Tk 2,000  \n",
       "\n",
       "[125 rows x 3 columns]"
      ]
     },
     "execution_count": 55,
     "metadata": {},
     "output_type": "execute_result"
    }
   ],
   "source": [
    "dataframe = pd.DataFrame(data)\n",
    "dataframe"
   ]
  },
  {
   "cell_type": "code",
   "execution_count": 56,
   "id": "a1c6c6ae",
   "metadata": {},
   "outputs": [],
   "source": [
    "dataframe.to_csv('Bikroy_._com_data.csv',index=False)"
   ]
  },
  {
   "cell_type": "code",
   "execution_count": null,
   "id": "6f8498e5",
   "metadata": {},
   "outputs": [],
   "source": []
  }
 ],
 "metadata": {
  "kernelspec": {
   "display_name": "Python 3 (ipykernel)",
   "language": "python",
   "name": "python3"
  },
  "language_info": {
   "codemirror_mode": {
    "name": "ipython",
    "version": 3
   },
   "file_extension": ".py",
   "mimetype": "text/x-python",
   "name": "python",
   "nbconvert_exporter": "python",
   "pygments_lexer": "ipython3",
   "version": "3.9.13"
  }
 },
 "nbformat": 4,
 "nbformat_minor": 5
}
